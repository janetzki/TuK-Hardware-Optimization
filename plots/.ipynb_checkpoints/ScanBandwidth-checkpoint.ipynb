{
 "cells": [
  {
   "cell_type": "code",
   "execution_count": 3,
   "metadata": {},
   "outputs": [],
   "source": [
    "from matplotlib.ticker import FuncFormatter\n",
    "import matplotlib.pyplot as plt\n",
    "import pandas as pd\n",
    "import numpy as np\n",
    "import json\n",
    "import os\n",
    "import math\n",
    "\n",
    "hpi_red = '#b00639'\n",
    "hpi_blue = '#007a9e'\n",
    "hpi_yellow = '#ffde94'\n",
    "hpi_orange = '#f48642'\n",
    "\n",
    "def create_folder(filename):\n",
    "    if not os.path.exists(os.path.dirname(filename)):\n",
    "        try:\n",
    "            os.makedirs(os.path.dirname(filename))\n",
    "        except OSError as exc: # Guard against race condition\n",
    "            if exc.errno != errno.EEXIST:\n",
    "                raise\n",
    "                \n",
    "def save_plot(filename):\n",
    "    create_folder(\"plots/\")\n",
    "    plt.savefig('plots/{}.pdf'.format(filename), bbox_inches='tight', pad_inches=0)\n",
    "    \n",
    "    \n",
    "def get_results():\n",
    "    filename = \"results.csv\"\n",
    "    return pd.read_csv(filename, header=0)\n",
    "\n",
    "def select(data, data_type, store_type):\n",
    "    return data[(data.data_type == data_type) & (data.store_type == store_type)]\n",
    "\n",
    "def make_plot(store_type):\n",
    "    data = get_results()\n",
    "    fig, ax = plt.subplots()\n",
    "    ax.grid()\n",
    "    ax.set_xscale(\"log\", nonposx='clip')\n",
    "    store_title = store_type.replace(\"_\", \" \").title()\n",
    "    plt.title(\"Scan Bandwidth - {}\".format(store_title))\n",
    "    plt.ylabel('Bandwidth (GB/s)')\n",
    "    plt.xlabel('Attribute Vector Size (KB)')\n",
    "    data8  = select(data, \"uint8_t\",  store_type)\n",
    "    data16 = select(data, \"uint16_t\", store_type)\n",
    "    data32 = select(data, \"uint32_t\", store_type)\n",
    "    data64 = select(data, \"uint64_t\", store_type)\n",
    "    bar1 = plt.plot(data8[\"column_size\"],  data8[\"bandwidth\"], \"x-\", color=hpi_red, label=\"uint8_t\")\n",
    "    bar2 = plt.plot(data16[\"column_size\"], data16[\"bandwidth\"], \"x-\", color=hpi_blue, label=\"uint16_t\")\n",
    "    bar3 = plt.plot(data32[\"column_size\"], data32[\"bandwidth\"], \"x-\", color=hpi_yellow, label=\"uint32_t\")\n",
    "    bar4 = plt.plot(data64[\"column_size\"], data64[\"bandwidth\"], \"x-\", color=hpi_orange, label=\"uint64_t\")\n",
    "    plt.legend()\n",
    "    save_plot(\"scan_bandwidth\" + store_type)\n",
    "    plt.show()"
   ]
  },
  {
   "cell_type": "code",
   "execution_count": null,
   "metadata": {},
   "outputs": [],
   "source": [
    "make_plot(\"column_store\")\n",
    "make_plot(\"row_store\")"
   ]
  }
 ],
 "metadata": {
  "kernelspec": {
   "display_name": "Python 3",
   "language": "python",
   "name": "python3"
  },
  "language_info": {
   "codemirror_mode": {
    "name": "ipython",
    "version": 3
   },
   "file_extension": ".py",
   "mimetype": "text/x-python",
   "name": "python",
   "nbconvert_exporter": "python",
   "pygments_lexer": "ipython3",
   "version": "3.6.3"
  }
 },
 "nbformat": 4,
 "nbformat_minor": 2
}
